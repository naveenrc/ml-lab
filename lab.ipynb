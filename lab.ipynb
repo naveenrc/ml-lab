{
  "nbformat": 4,
  "nbformat_minor": 0,
  "metadata": {
    "colab": {
      "name": "lab.ipynb",
      "provenance": [],
      "authorship_tag": "ABX9TyPyBSKCBtthq2ii1niLTj8X"
    },
    "kernelspec": {
      "name": "python3",
      "display_name": "Python 3"
    },
    "language_info": {
      "name": "python"
    },
    "widgets": {
      "application/vnd.jupyter.widget-state+json": {
        "f9a5778eeb34440482d29233671b7bff": {
          "model_module": "@jupyter-widgets/controls",
          "model_name": "VBoxModel",
          "state": {
            "_view_name": "VBoxView",
            "_dom_classes": [
              "widget-interact"
            ],
            "_model_name": "VBoxModel",
            "_view_module": "@jupyter-widgets/controls",
            "_model_module_version": "1.5.0",
            "_view_count": null,
            "_view_module_version": "1.5.0",
            "box_style": "",
            "layout": "IPY_MODEL_c61d94de5b624ba88aa688642edfcb0b",
            "_model_module": "@jupyter-widgets/controls",
            "children": [
              "IPY_MODEL_e29d43204bcf4e94952488081de75799",
              "IPY_MODEL_1075499a64e345bd8bb76330867fe165"
            ]
          }
        },
        "c61d94de5b624ba88aa688642edfcb0b": {
          "model_module": "@jupyter-widgets/base",
          "model_name": "LayoutModel",
          "state": {
            "_view_name": "LayoutView",
            "grid_template_rows": null,
            "right": null,
            "justify_content": null,
            "_view_module": "@jupyter-widgets/base",
            "overflow": null,
            "_model_module_version": "1.2.0",
            "_view_count": null,
            "flex_flow": null,
            "width": null,
            "min_width": null,
            "border": null,
            "align_items": null,
            "bottom": null,
            "_model_module": "@jupyter-widgets/base",
            "top": null,
            "grid_column": null,
            "overflow_y": null,
            "overflow_x": null,
            "grid_auto_flow": null,
            "grid_area": null,
            "grid_template_columns": null,
            "flex": null,
            "_model_name": "LayoutModel",
            "justify_items": null,
            "grid_row": null,
            "max_height": null,
            "align_content": null,
            "visibility": null,
            "align_self": null,
            "height": null,
            "min_height": null,
            "padding": null,
            "grid_auto_rows": null,
            "grid_gap": null,
            "max_width": null,
            "order": null,
            "_view_module_version": "1.2.0",
            "grid_template_areas": null,
            "object_position": null,
            "object_fit": null,
            "grid_auto_columns": null,
            "margin": null,
            "display": null,
            "left": null
          }
        },
        "e29d43204bcf4e94952488081de75799": {
          "model_module": "@jupyter-widgets/controls",
          "model_name": "IntSliderModel",
          "state": {
            "_view_name": "IntSliderView",
            "style": "IPY_MODEL_42f9fc352fce4f87a885eb6c4405e712",
            "_dom_classes": [],
            "description": "i",
            "step": 1,
            "_model_name": "IntSliderModel",
            "orientation": "horizontal",
            "max": 100,
            "_view_module": "@jupyter-widgets/controls",
            "_model_module_version": "1.5.0",
            "value": 100,
            "_view_count": null,
            "disabled": false,
            "_view_module_version": "1.5.0",
            "min": 0,
            "continuous_update": true,
            "readout_format": "d",
            "description_tooltip": null,
            "readout": true,
            "_model_module": "@jupyter-widgets/controls",
            "layout": "IPY_MODEL_53880d504e374ae08839e698928cea11"
          }
        },
        "1075499a64e345bd8bb76330867fe165": {
          "model_module": "@jupyter-widgets/output",
          "model_name": "OutputModel",
          "state": {
            "_view_name": "OutputView",
            "msg_id": "",
            "_dom_classes": [],
            "_model_name": "OutputModel",
            "outputs": [
              {
                "output_type": "display_data",
                "metadata": {
                  "tags": [],
                  "needs_background": "light"
                },
                "image/png": "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\n",
                "text/plain": "<Figure size 432x288 with 2 Axes>"
              }
            ],
            "_view_module": "@jupyter-widgets/output",
            "_model_module_version": "1.0.0",
            "_view_count": null,
            "_view_module_version": "1.0.0",
            "layout": "IPY_MODEL_eddbaaef4da1419ca22ab9ec58113428",
            "_model_module": "@jupyter-widgets/output"
          }
        },
        "42f9fc352fce4f87a885eb6c4405e712": {
          "model_module": "@jupyter-widgets/controls",
          "model_name": "SliderStyleModel",
          "state": {
            "_view_name": "StyleView",
            "handle_color": null,
            "_model_name": "SliderStyleModel",
            "description_width": "",
            "_view_module": "@jupyter-widgets/base",
            "_model_module_version": "1.5.0",
            "_view_count": null,
            "_view_module_version": "1.2.0",
            "_model_module": "@jupyter-widgets/controls"
          }
        },
        "53880d504e374ae08839e698928cea11": {
          "model_module": "@jupyter-widgets/base",
          "model_name": "LayoutModel",
          "state": {
            "_view_name": "LayoutView",
            "grid_template_rows": null,
            "right": null,
            "justify_content": null,
            "_view_module": "@jupyter-widgets/base",
            "overflow": null,
            "_model_module_version": "1.2.0",
            "_view_count": null,
            "flex_flow": null,
            "width": null,
            "min_width": null,
            "border": null,
            "align_items": null,
            "bottom": null,
            "_model_module": "@jupyter-widgets/base",
            "top": null,
            "grid_column": null,
            "overflow_y": null,
            "overflow_x": null,
            "grid_auto_flow": null,
            "grid_area": null,
            "grid_template_columns": null,
            "flex": null,
            "_model_name": "LayoutModel",
            "justify_items": null,
            "grid_row": null,
            "max_height": null,
            "align_content": null,
            "visibility": null,
            "align_self": null,
            "height": null,
            "min_height": null,
            "padding": null,
            "grid_auto_rows": null,
            "grid_gap": null,
            "max_width": null,
            "order": null,
            "_view_module_version": "1.2.0",
            "grid_template_areas": null,
            "object_position": null,
            "object_fit": null,
            "grid_auto_columns": null,
            "margin": null,
            "display": null,
            "left": null
          }
        },
        "eddbaaef4da1419ca22ab9ec58113428": {
          "model_module": "@jupyter-widgets/base",
          "model_name": "LayoutModel",
          "state": {
            "_view_name": "LayoutView",
            "grid_template_rows": null,
            "right": null,
            "justify_content": null,
            "_view_module": "@jupyter-widgets/base",
            "overflow": null,
            "_model_module_version": "1.2.0",
            "_view_count": null,
            "flex_flow": null,
            "width": null,
            "min_width": null,
            "border": null,
            "align_items": null,
            "bottom": null,
            "_model_module": "@jupyter-widgets/base",
            "top": null,
            "grid_column": null,
            "overflow_y": null,
            "overflow_x": null,
            "grid_auto_flow": null,
            "grid_area": null,
            "grid_template_columns": null,
            "flex": null,
            "_model_name": "LayoutModel",
            "justify_items": null,
            "grid_row": null,
            "max_height": null,
            "align_content": null,
            "visibility": null,
            "align_self": null,
            "height": null,
            "min_height": null,
            "padding": null,
            "grid_auto_rows": null,
            "grid_gap": null,
            "max_width": null,
            "order": null,
            "_view_module_version": "1.2.0",
            "grid_template_areas": null,
            "object_position": null,
            "object_fit": null,
            "grid_auto_columns": null,
            "margin": null,
            "display": null,
            "left": null
          }
        }
      }
    }
  },
  "cells": [
    {
      "cell_type": "markdown",
      "metadata": {
        "id": "crtNJGsLs84z"
      },
      "source": [
        "# **A simpler algorithm**"
      ]
    },
    {
      "cell_type": "code",
      "metadata": {
        "colab": {
          "base_uri": "https://localhost:8080/",
          "height": 203
        },
        "id": "-I_kG5TytKg3",
        "outputId": "6cf316ee-d449-43ed-951c-ad6d034c3537"
      },
      "source": [
        "import pandas as pd\n",
        "from sklearn.datasets import load_boston\n",
        "from sklearn.model_selection import train_test_split\n",
        "from sklearn.linear_model import LinearRegression\n",
        "import matplotlib.pyplot as plt\n",
        "\n",
        "boston = load_boston()\n",
        "data = pd.DataFrame(boston.data)\n",
        "data.columns = boston.feature_names\n",
        "data['PRICE'] = boston.target \n",
        "data.head()"
      ],
      "execution_count": 1,
      "outputs": [
        {
          "output_type": "execute_result",
          "data": {
            "text/html": [
              "<div>\n",
              "<style scoped>\n",
              "    .dataframe tbody tr th:only-of-type {\n",
              "        vertical-align: middle;\n",
              "    }\n",
              "\n",
              "    .dataframe tbody tr th {\n",
              "        vertical-align: top;\n",
              "    }\n",
              "\n",
              "    .dataframe thead th {\n",
              "        text-align: right;\n",
              "    }\n",
              "</style>\n",
              "<table border=\"1\" class=\"dataframe\">\n",
              "  <thead>\n",
              "    <tr style=\"text-align: right;\">\n",
              "      <th></th>\n",
              "      <th>CRIM</th>\n",
              "      <th>ZN</th>\n",
              "      <th>INDUS</th>\n",
              "      <th>CHAS</th>\n",
              "      <th>NOX</th>\n",
              "      <th>RM</th>\n",
              "      <th>AGE</th>\n",
              "      <th>DIS</th>\n",
              "      <th>RAD</th>\n",
              "      <th>TAX</th>\n",
              "      <th>PTRATIO</th>\n",
              "      <th>B</th>\n",
              "      <th>LSTAT</th>\n",
              "      <th>PRICE</th>\n",
              "    </tr>\n",
              "  </thead>\n",
              "  <tbody>\n",
              "    <tr>\n",
              "      <th>0</th>\n",
              "      <td>0.00632</td>\n",
              "      <td>18.0</td>\n",
              "      <td>2.31</td>\n",
              "      <td>0.0</td>\n",
              "      <td>0.538</td>\n",
              "      <td>6.575</td>\n",
              "      <td>65.2</td>\n",
              "      <td>4.0900</td>\n",
              "      <td>1.0</td>\n",
              "      <td>296.0</td>\n",
              "      <td>15.3</td>\n",
              "      <td>396.90</td>\n",
              "      <td>4.98</td>\n",
              "      <td>24.0</td>\n",
              "    </tr>\n",
              "    <tr>\n",
              "      <th>1</th>\n",
              "      <td>0.02731</td>\n",
              "      <td>0.0</td>\n",
              "      <td>7.07</td>\n",
              "      <td>0.0</td>\n",
              "      <td>0.469</td>\n",
              "      <td>6.421</td>\n",
              "      <td>78.9</td>\n",
              "      <td>4.9671</td>\n",
              "      <td>2.0</td>\n",
              "      <td>242.0</td>\n",
              "      <td>17.8</td>\n",
              "      <td>396.90</td>\n",
              "      <td>9.14</td>\n",
              "      <td>21.6</td>\n",
              "    </tr>\n",
              "    <tr>\n",
              "      <th>2</th>\n",
              "      <td>0.02729</td>\n",
              "      <td>0.0</td>\n",
              "      <td>7.07</td>\n",
              "      <td>0.0</td>\n",
              "      <td>0.469</td>\n",
              "      <td>7.185</td>\n",
              "      <td>61.1</td>\n",
              "      <td>4.9671</td>\n",
              "      <td>2.0</td>\n",
              "      <td>242.0</td>\n",
              "      <td>17.8</td>\n",
              "      <td>392.83</td>\n",
              "      <td>4.03</td>\n",
              "      <td>34.7</td>\n",
              "    </tr>\n",
              "    <tr>\n",
              "      <th>3</th>\n",
              "      <td>0.03237</td>\n",
              "      <td>0.0</td>\n",
              "      <td>2.18</td>\n",
              "      <td>0.0</td>\n",
              "      <td>0.458</td>\n",
              "      <td>6.998</td>\n",
              "      <td>45.8</td>\n",
              "      <td>6.0622</td>\n",
              "      <td>3.0</td>\n",
              "      <td>222.0</td>\n",
              "      <td>18.7</td>\n",
              "      <td>394.63</td>\n",
              "      <td>2.94</td>\n",
              "      <td>33.4</td>\n",
              "    </tr>\n",
              "    <tr>\n",
              "      <th>4</th>\n",
              "      <td>0.06905</td>\n",
              "      <td>0.0</td>\n",
              "      <td>2.18</td>\n",
              "      <td>0.0</td>\n",
              "      <td>0.458</td>\n",
              "      <td>7.147</td>\n",
              "      <td>54.2</td>\n",
              "      <td>6.0622</td>\n",
              "      <td>3.0</td>\n",
              "      <td>222.0</td>\n",
              "      <td>18.7</td>\n",
              "      <td>396.90</td>\n",
              "      <td>5.33</td>\n",
              "      <td>36.2</td>\n",
              "    </tr>\n",
              "  </tbody>\n",
              "</table>\n",
              "</div>"
            ],
            "text/plain": [
              "      CRIM    ZN  INDUS  CHAS    NOX  ...    TAX  PTRATIO       B  LSTAT  PRICE\n",
              "0  0.00632  18.0   2.31   0.0  0.538  ...  296.0     15.3  396.90   4.98   24.0\n",
              "1  0.02731   0.0   7.07   0.0  0.469  ...  242.0     17.8  396.90   9.14   21.6\n",
              "2  0.02729   0.0   7.07   0.0  0.469  ...  242.0     17.8  392.83   4.03   34.7\n",
              "3  0.03237   0.0   2.18   0.0  0.458  ...  222.0     18.7  394.63   2.94   33.4\n",
              "4  0.06905   0.0   2.18   0.0  0.458  ...  222.0     18.7  396.90   5.33   36.2\n",
              "\n",
              "[5 rows x 14 columns]"
            ]
          },
          "metadata": {
            "tags": []
          },
          "execution_count": 1
        }
      ]
    },
    {
      "cell_type": "markdown",
      "metadata": {
        "id": "Glcg4g6nzCig"
      },
      "source": [
        "price = m * crim + c"
      ]
    },
    {
      "cell_type": "code",
      "metadata": {
        "colab": {
          "base_uri": "https://localhost:8080/"
        },
        "id": "EbMMwylAuzmo",
        "outputId": "50d852f8-47d9-4db1-8c8a-8a3d7fc3d989"
      },
      "source": [
        "data.shape"
      ],
      "execution_count": 2,
      "outputs": [
        {
          "output_type": "execute_result",
          "data": {
            "text/plain": [
              "(506, 14)"
            ]
          },
          "metadata": {
            "tags": []
          },
          "execution_count": 2
        }
      ]
    },
    {
      "cell_type": "code",
      "metadata": {
        "colab": {
          "base_uri": "https://localhost:8080/"
        },
        "id": "YMssybtqu99P",
        "outputId": "a53cb810-d352-47b2-f446-9b623920f82e"
      },
      "source": [
        "X = data[['CRIM']]\n",
        "y = data['PRICE']\n",
        "\n",
        "X_train, X_test, y_train, y_test = train_test_split(X,y, test_size = 0.3, random_state = 4)\n",
        "\n",
        "lm = LinearRegression()\n",
        "lm.fit(X_train, y_train)"
      ],
      "execution_count": 3,
      "outputs": [
        {
          "output_type": "execute_result",
          "data": {
            "text/plain": [
              "LinearRegression(copy_X=True, fit_intercept=True, n_jobs=None, normalize=False)"
            ]
          },
          "metadata": {
            "tags": []
          },
          "execution_count": 3
        }
      ]
    },
    {
      "cell_type": "code",
      "metadata": {
        "colab": {
          "base_uri": "https://localhost:8080/"
        },
        "id": "ufa8-uPVysjG",
        "outputId": "c68a71b3-168f-4f38-9bb6-57f2fb41a691"
      },
      "source": [
        "lm.intercept_"
      ],
      "execution_count": 4,
      "outputs": [
        {
          "output_type": "execute_result",
          "data": {
            "text/plain": [
              "23.685057228193845"
            ]
          },
          "metadata": {
            "tags": []
          },
          "execution_count": 4
        }
      ]
    },
    {
      "cell_type": "code",
      "metadata": {
        "colab": {
          "base_uri": "https://localhost:8080/",
          "height": 80
        },
        "id": "FOm24WB4y1ss",
        "outputId": "3ba86081-ed62-42f2-b3f0-e35c723adde3"
      },
      "source": [
        "coeffcients = pd.DataFrame([X_train.columns,lm.coef_]).T\n",
        "coeffcients = coeffcients.rename(columns={0: 'Attribute', 1: 'Coefficients'})\n",
        "coeffcients"
      ],
      "execution_count": 5,
      "outputs": [
        {
          "output_type": "execute_result",
          "data": {
            "text/html": [
              "<div>\n",
              "<style scoped>\n",
              "    .dataframe tbody tr th:only-of-type {\n",
              "        vertical-align: middle;\n",
              "    }\n",
              "\n",
              "    .dataframe tbody tr th {\n",
              "        vertical-align: top;\n",
              "    }\n",
              "\n",
              "    .dataframe thead th {\n",
              "        text-align: right;\n",
              "    }\n",
              "</style>\n",
              "<table border=\"1\" class=\"dataframe\">\n",
              "  <thead>\n",
              "    <tr style=\"text-align: right;\">\n",
              "      <th></th>\n",
              "      <th>Attribute</th>\n",
              "      <th>Coefficients</th>\n",
              "    </tr>\n",
              "  </thead>\n",
              "  <tbody>\n",
              "    <tr>\n",
              "      <th>0</th>\n",
              "      <td>CRIM</td>\n",
              "      <td>-0.408785</td>\n",
              "    </tr>\n",
              "  </tbody>\n",
              "</table>\n",
              "</div>"
            ],
            "text/plain": [
              "  Attribute Coefficients\n",
              "0      CRIM    -0.408785"
            ]
          },
          "metadata": {
            "tags": []
          },
          "execution_count": 5
        }
      ]
    },
    {
      "cell_type": "markdown",
      "metadata": {
        "id": "XgIStZoM0OxQ"
      },
      "source": [
        "y = a * x + b * x^2 + c * x^3"
      ]
    },
    {
      "cell_type": "markdown",
      "metadata": {
        "id": "SIpcfo6ONbY0"
      },
      "source": [
        "# **Image classification**"
      ]
    },
    {
      "cell_type": "code",
      "metadata": {
        "colab": {
          "base_uri": "https://localhost:8080/",
          "height": 1000
        },
        "id": "fjXrIQNTzxPd",
        "outputId": "6f43dceb-cb87-45a7-b236-dcc4546610fc"
      },
      "source": [
        "!pip install ipympl\n",
        "!pip install tensorflow\n",
        "\n",
        "%matplotlib inline\n",
        "import ipywidgets as widgets\n",
        "import tensorflow as tf\n",
        "import numpy as np\n",
        "import matplotlib.pyplot as plt\n",
        "\n",
        "fashion_mnist = tf.keras.datasets.fashion_mnist\n",
        "(train_images, train_labels), (test_images, test_labels) = fashion_mnist.load_data()\n",
        "class_names = ['T-shirt/top', 'Trouser', 'Pullover', 'Dress', 'Coat', 'Sandal', 'Shirt', 'Sneaker', 'Bag', 'Ankle boot']\n",
        "model = tf.keras.Sequential([\n",
        "    tf.keras.layers.Flatten(input_shape=(28, 28)),\n",
        "    tf.keras.layers.Dense(128, activation='relu'),\n",
        "    tf.keras.layers.Dense(10)\n",
        "])\n",
        "model.compile(optimizer='adam',\n",
        "              loss=tf.keras.losses.SparseCategoricalCrossentropy(from_logits=True),\n",
        "              metrics=['accuracy'])\n",
        "model.fit(train_images, train_labels, epochs=10)\n",
        "probability_model = tf.keras.Sequential([model, \n",
        "                                         tf.keras.layers.Softmax()])\n",
        "predictions = probability_model.predict(test_images)\n",
        "\n",
        "def plot_image(i, predictions_array, true_label, img):\n",
        "  true_label, img = true_label[i], img[i]\n",
        "  plt.grid(False)\n",
        "  plt.xticks([])\n",
        "  plt.yticks([])\n",
        "\n",
        "  plt.imshow(img, cmap=plt.cm.binary)\n",
        "\n",
        "  predicted_label = np.argmax(predictions_array)\n",
        "  if predicted_label == true_label:\n",
        "    color = 'blue'\n",
        "  else:\n",
        "    color = 'red'\n",
        "\n",
        "  plt.xlabel(\"{} {:2.0f}% ({})\".format(class_names[predicted_label],\n",
        "                                100*np.max(predictions_array),\n",
        "                                class_names[true_label]),\n",
        "                                color=color)\n",
        "\n",
        "def plot_value_array(i, predictions_array, true_label):\n",
        "  true_label = true_label[i]\n",
        "  plt.grid(False)\n",
        "  plt.xticks(range(10))\n",
        "  plt.yticks([])\n",
        "  thisplot = plt.bar(range(10), predictions_array, color=\"#777777\")\n",
        "  plt.ylim([0, 1])\n",
        "  predicted_label = np.argmax(predictions_array)\n",
        "\n",
        "  thisplot[predicted_label].set_color('red')\n",
        "  thisplot[true_label].set_color('blue')\n",
        "\n",
        "\n",
        "plt.figure(figsize=(10,10))\n",
        "for i in range(25):\n",
        "    plt.subplot(5,5,i+1)\n",
        "    plt.xticks([])\n",
        "    plt.yticks([])\n",
        "    plt.grid(False)\n",
        "    plt.imshow(train_images[i], cmap=plt.cm.binary)\n",
        "    plt.xlabel(class_names[train_labels[i]])\n",
        "plt.show()"
      ],
      "execution_count": 6,
      "outputs": [
        {
          "output_type": "stream",
          "text": [
            "Collecting ipympl\n",
            "\u001b[?25l  Downloading https://files.pythonhosted.org/packages/d9/6c/5f4b4764d3009027b4a556aebb35a09d09c09e1996ed701a150172790d98/ipympl-0.7.0-py2.py3-none-any.whl (106kB)\n",
            "\r\u001b[K     |███                             | 10kB 22.5MB/s eta 0:00:01\r\u001b[K     |██████▏                         | 20kB 16.1MB/s eta 0:00:01\r\u001b[K     |█████████▎                      | 30kB 13.8MB/s eta 0:00:01\r\u001b[K     |████████████▍                   | 40kB 13.0MB/s eta 0:00:01\r\u001b[K     |███████████████▍                | 51kB 7.7MB/s eta 0:00:01\r\u001b[K     |██████████████████▌             | 61kB 9.0MB/s eta 0:00:01\r\u001b[K     |█████████████████████▋          | 71kB 8.4MB/s eta 0:00:01\r\u001b[K     |████████████████████████▊       | 81kB 9.2MB/s eta 0:00:01\r\u001b[K     |███████████████████████████▊    | 92kB 8.9MB/s eta 0:00:01\r\u001b[K     |██████████████████████████████▉ | 102kB 7.5MB/s eta 0:00:01\r\u001b[K     |████████████████████████████████| 112kB 7.5MB/s \n",
            "\u001b[?25hRequirement already satisfied: matplotlib>=2.0.0 in /usr/local/lib/python3.7/dist-packages (from ipympl) (3.2.2)\n",
            "Requirement already satisfied: ipywidgets>=7.6.0 in /usr/local/lib/python3.7/dist-packages (from ipympl) (7.6.3)\n",
            "Requirement already satisfied: ipykernel>=4.7 in /usr/local/lib/python3.7/dist-packages (from ipympl) (4.10.1)\n",
            "Requirement already satisfied: pyparsing!=2.0.4,!=2.1.2,!=2.1.6,>=2.0.1 in /usr/local/lib/python3.7/dist-packages (from matplotlib>=2.0.0->ipympl) (2.4.7)\n",
            "Requirement already satisfied: numpy>=1.11 in /usr/local/lib/python3.7/dist-packages (from matplotlib>=2.0.0->ipympl) (1.19.5)\n",
            "Requirement already satisfied: python-dateutil>=2.1 in /usr/local/lib/python3.7/dist-packages (from matplotlib>=2.0.0->ipympl) (2.8.1)\n",
            "Requirement already satisfied: cycler>=0.10 in /usr/local/lib/python3.7/dist-packages (from matplotlib>=2.0.0->ipympl) (0.10.0)\n",
            "Requirement already satisfied: kiwisolver>=1.0.1 in /usr/local/lib/python3.7/dist-packages (from matplotlib>=2.0.0->ipympl) (1.3.1)\n",
            "Requirement already satisfied: ipython>=4.0.0; python_version >= \"3.3\" in /usr/local/lib/python3.7/dist-packages (from ipywidgets>=7.6.0->ipympl) (5.5.0)\n",
            "Requirement already satisfied: widgetsnbextension~=3.5.0 in /usr/local/lib/python3.7/dist-packages (from ipywidgets>=7.6.0->ipympl) (3.5.1)\n",
            "Requirement already satisfied: traitlets>=4.3.1 in /usr/local/lib/python3.7/dist-packages (from ipywidgets>=7.6.0->ipympl) (5.0.5)\n",
            "Requirement already satisfied: nbformat>=4.2.0 in /usr/local/lib/python3.7/dist-packages (from ipywidgets>=7.6.0->ipympl) (5.1.3)\n",
            "Requirement already satisfied: jupyterlab-widgets>=1.0.0; python_version >= \"3.6\" in /usr/local/lib/python3.7/dist-packages (from ipywidgets>=7.6.0->ipympl) (1.0.0)\n",
            "Requirement already satisfied: tornado>=4.0 in /usr/local/lib/python3.7/dist-packages (from ipykernel>=4.7->ipympl) (5.1.1)\n",
            "Requirement already satisfied: jupyter-client in /usr/local/lib/python3.7/dist-packages (from ipykernel>=4.7->ipympl) (5.3.5)\n",
            "Requirement already satisfied: six>=1.5 in /usr/local/lib/python3.7/dist-packages (from python-dateutil>=2.1->matplotlib>=2.0.0->ipympl) (1.15.0)\n",
            "Requirement already satisfied: decorator in /usr/local/lib/python3.7/dist-packages (from ipython>=4.0.0; python_version >= \"3.3\"->ipywidgets>=7.6.0->ipympl) (4.4.2)\n",
            "Requirement already satisfied: pygments in /usr/local/lib/python3.7/dist-packages (from ipython>=4.0.0; python_version >= \"3.3\"->ipywidgets>=7.6.0->ipympl) (2.6.1)\n",
            "Requirement already satisfied: pickleshare in /usr/local/lib/python3.7/dist-packages (from ipython>=4.0.0; python_version >= \"3.3\"->ipywidgets>=7.6.0->ipympl) (0.7.5)\n",
            "Requirement already satisfied: setuptools>=18.5 in /usr/local/lib/python3.7/dist-packages (from ipython>=4.0.0; python_version >= \"3.3\"->ipywidgets>=7.6.0->ipympl) (57.0.0)\n",
            "Requirement already satisfied: prompt-toolkit<2.0.0,>=1.0.4 in /usr/local/lib/python3.7/dist-packages (from ipython>=4.0.0; python_version >= \"3.3\"->ipywidgets>=7.6.0->ipympl) (1.0.18)\n",
            "Requirement already satisfied: simplegeneric>0.8 in /usr/local/lib/python3.7/dist-packages (from ipython>=4.0.0; python_version >= \"3.3\"->ipywidgets>=7.6.0->ipympl) (0.8.1)\n",
            "Requirement already satisfied: pexpect; sys_platform != \"win32\" in /usr/local/lib/python3.7/dist-packages (from ipython>=4.0.0; python_version >= \"3.3\"->ipywidgets>=7.6.0->ipympl) (4.8.0)\n",
            "Requirement already satisfied: notebook>=4.4.1 in /usr/local/lib/python3.7/dist-packages (from widgetsnbextension~=3.5.0->ipywidgets>=7.6.0->ipympl) (5.3.1)\n",
            "Requirement already satisfied: ipython-genutils in /usr/local/lib/python3.7/dist-packages (from traitlets>=4.3.1->ipywidgets>=7.6.0->ipympl) (0.2.0)\n",
            "Requirement already satisfied: jsonschema!=2.5.0,>=2.4 in /usr/local/lib/python3.7/dist-packages (from nbformat>=4.2.0->ipywidgets>=7.6.0->ipympl) (2.6.0)\n",
            "Requirement already satisfied: jupyter-core in /usr/local/lib/python3.7/dist-packages (from nbformat>=4.2.0->ipywidgets>=7.6.0->ipympl) (4.7.1)\n",
            "Requirement already satisfied: pyzmq>=13 in /usr/local/lib/python3.7/dist-packages (from jupyter-client->ipykernel>=4.7->ipympl) (22.0.3)\n",
            "Requirement already satisfied: wcwidth in /usr/local/lib/python3.7/dist-packages (from prompt-toolkit<2.0.0,>=1.0.4->ipython>=4.0.0; python_version >= \"3.3\"->ipywidgets>=7.6.0->ipympl) (0.2.5)\n",
            "Requirement already satisfied: ptyprocess>=0.5 in /usr/local/lib/python3.7/dist-packages (from pexpect; sys_platform != \"win32\"->ipython>=4.0.0; python_version >= \"3.3\"->ipywidgets>=7.6.0->ipympl) (0.7.0)\n",
            "Requirement already satisfied: jinja2 in /usr/local/lib/python3.7/dist-packages (from notebook>=4.4.1->widgetsnbextension~=3.5.0->ipywidgets>=7.6.0->ipympl) (2.11.3)\n",
            "Requirement already satisfied: terminado>=0.8.1 in /usr/local/lib/python3.7/dist-packages (from notebook>=4.4.1->widgetsnbextension~=3.5.0->ipywidgets>=7.6.0->ipympl) (0.10.0)\n",
            "Requirement already satisfied: Send2Trash in /usr/local/lib/python3.7/dist-packages (from notebook>=4.4.1->widgetsnbextension~=3.5.0->ipywidgets>=7.6.0->ipympl) (1.5.0)\n",
            "Requirement already satisfied: nbconvert in /usr/local/lib/python3.7/dist-packages (from notebook>=4.4.1->widgetsnbextension~=3.5.0->ipywidgets>=7.6.0->ipympl) (5.6.1)\n",
            "Requirement already satisfied: MarkupSafe>=0.23 in /usr/local/lib/python3.7/dist-packages (from jinja2->notebook>=4.4.1->widgetsnbextension~=3.5.0->ipywidgets>=7.6.0->ipympl) (2.0.1)\n",
            "Requirement already satisfied: entrypoints>=0.2.2 in /usr/local/lib/python3.7/dist-packages (from nbconvert->notebook>=4.4.1->widgetsnbextension~=3.5.0->ipywidgets>=7.6.0->ipympl) (0.3)\n",
            "Requirement already satisfied: pandocfilters>=1.4.1 in /usr/local/lib/python3.7/dist-packages (from nbconvert->notebook>=4.4.1->widgetsnbextension~=3.5.0->ipywidgets>=7.6.0->ipympl) (1.4.3)\n",
            "Requirement already satisfied: testpath in /usr/local/lib/python3.7/dist-packages (from nbconvert->notebook>=4.4.1->widgetsnbextension~=3.5.0->ipywidgets>=7.6.0->ipympl) (0.5.0)\n",
            "Requirement already satisfied: defusedxml in /usr/local/lib/python3.7/dist-packages (from nbconvert->notebook>=4.4.1->widgetsnbextension~=3.5.0->ipywidgets>=7.6.0->ipympl) (0.7.1)\n",
            "Requirement already satisfied: bleach in /usr/local/lib/python3.7/dist-packages (from nbconvert->notebook>=4.4.1->widgetsnbextension~=3.5.0->ipywidgets>=7.6.0->ipympl) (3.3.0)\n",
            "Requirement already satisfied: mistune<2,>=0.8.1 in /usr/local/lib/python3.7/dist-packages (from nbconvert->notebook>=4.4.1->widgetsnbextension~=3.5.0->ipywidgets>=7.6.0->ipympl) (0.8.4)\n",
            "Requirement already satisfied: webencodings in /usr/local/lib/python3.7/dist-packages (from bleach->nbconvert->notebook>=4.4.1->widgetsnbextension~=3.5.0->ipywidgets>=7.6.0->ipympl) (0.5.1)\n",
            "Requirement already satisfied: packaging in /usr/local/lib/python3.7/dist-packages (from bleach->nbconvert->notebook>=4.4.1->widgetsnbextension~=3.5.0->ipywidgets>=7.6.0->ipympl) (20.9)\n",
            "Installing collected packages: ipympl\n",
            "Successfully installed ipympl-0.7.0\n",
            "Requirement already satisfied: tensorflow in /usr/local/lib/python3.7/dist-packages (2.5.0)\n",
            "Requirement already satisfied: keras-nightly~=2.5.0.dev in /usr/local/lib/python3.7/dist-packages (from tensorflow) (2.5.0.dev2021032900)\n",
            "Requirement already satisfied: tensorboard~=2.5 in /usr/local/lib/python3.7/dist-packages (from tensorflow) (2.5.0)\n",
            "Requirement already satisfied: protobuf>=3.9.2 in /usr/local/lib/python3.7/dist-packages (from tensorflow) (3.12.4)\n",
            "Requirement already satisfied: gast==0.4.0 in /usr/local/lib/python3.7/dist-packages (from tensorflow) (0.4.0)\n",
            "Requirement already satisfied: absl-py~=0.10 in /usr/local/lib/python3.7/dist-packages (from tensorflow) (0.12.0)\n",
            "Requirement already satisfied: six~=1.15.0 in /usr/local/lib/python3.7/dist-packages (from tensorflow) (1.15.0)\n",
            "Requirement already satisfied: typing-extensions~=3.7.4 in /usr/local/lib/python3.7/dist-packages (from tensorflow) (3.7.4.3)\n",
            "Requirement already satisfied: termcolor~=1.1.0 in /usr/local/lib/python3.7/dist-packages (from tensorflow) (1.1.0)\n",
            "Requirement already satisfied: wheel~=0.35 in /usr/local/lib/python3.7/dist-packages (from tensorflow) (0.36.2)\n",
            "Requirement already satisfied: opt-einsum~=3.3.0 in /usr/local/lib/python3.7/dist-packages (from tensorflow) (3.3.0)\n",
            "Requirement already satisfied: grpcio~=1.34.0 in /usr/local/lib/python3.7/dist-packages (from tensorflow) (1.34.1)\n",
            "Requirement already satisfied: h5py~=3.1.0 in /usr/local/lib/python3.7/dist-packages (from tensorflow) (3.1.0)\n",
            "Requirement already satisfied: tensorflow-estimator<2.6.0,>=2.5.0rc0 in /usr/local/lib/python3.7/dist-packages (from tensorflow) (2.5.0)\n",
            "Requirement already satisfied: numpy~=1.19.2 in /usr/local/lib/python3.7/dist-packages (from tensorflow) (1.19.5)\n",
            "Requirement already satisfied: flatbuffers~=1.12.0 in /usr/local/lib/python3.7/dist-packages (from tensorflow) (1.12)\n",
            "Requirement already satisfied: astunparse~=1.6.3 in /usr/local/lib/python3.7/dist-packages (from tensorflow) (1.6.3)\n",
            "Requirement already satisfied: keras-preprocessing~=1.1.2 in /usr/local/lib/python3.7/dist-packages (from tensorflow) (1.1.2)\n",
            "Requirement already satisfied: wrapt~=1.12.1 in /usr/local/lib/python3.7/dist-packages (from tensorflow) (1.12.1)\n",
            "Requirement already satisfied: google-pasta~=0.2 in /usr/local/lib/python3.7/dist-packages (from tensorflow) (0.2.0)\n",
            "Requirement already satisfied: requests<3,>=2.21.0 in /usr/local/lib/python3.7/dist-packages (from tensorboard~=2.5->tensorflow) (2.23.0)\n",
            "Requirement already satisfied: tensorboard-data-server<0.7.0,>=0.6.0 in /usr/local/lib/python3.7/dist-packages (from tensorboard~=2.5->tensorflow) (0.6.1)\n",
            "Requirement already satisfied: setuptools>=41.0.0 in /usr/local/lib/python3.7/dist-packages (from tensorboard~=2.5->tensorflow) (57.0.0)\n",
            "Requirement already satisfied: tensorboard-plugin-wit>=1.6.0 in /usr/local/lib/python3.7/dist-packages (from tensorboard~=2.5->tensorflow) (1.8.0)\n",
            "Requirement already satisfied: google-auth<2,>=1.6.3 in /usr/local/lib/python3.7/dist-packages (from tensorboard~=2.5->tensorflow) (1.30.0)\n",
            "Requirement already satisfied: werkzeug>=0.11.15 in /usr/local/lib/python3.7/dist-packages (from tensorboard~=2.5->tensorflow) (1.0.1)\n",
            "Requirement already satisfied: google-auth-oauthlib<0.5,>=0.4.1 in /usr/local/lib/python3.7/dist-packages (from tensorboard~=2.5->tensorflow) (0.4.4)\n",
            "Requirement already satisfied: markdown>=2.6.8 in /usr/local/lib/python3.7/dist-packages (from tensorboard~=2.5->tensorflow) (3.3.4)\n",
            "Requirement already satisfied: cached-property; python_version < \"3.8\" in /usr/local/lib/python3.7/dist-packages (from h5py~=3.1.0->tensorflow) (1.5.2)\n",
            "Requirement already satisfied: idna<3,>=2.5 in /usr/local/lib/python3.7/dist-packages (from requests<3,>=2.21.0->tensorboard~=2.5->tensorflow) (2.10)\n",
            "Requirement already satisfied: urllib3!=1.25.0,!=1.25.1,<1.26,>=1.21.1 in /usr/local/lib/python3.7/dist-packages (from requests<3,>=2.21.0->tensorboard~=2.5->tensorflow) (1.24.3)\n",
            "Requirement already satisfied: chardet<4,>=3.0.2 in /usr/local/lib/python3.7/dist-packages (from requests<3,>=2.21.0->tensorboard~=2.5->tensorflow) (3.0.4)\n",
            "Requirement already satisfied: certifi>=2017.4.17 in /usr/local/lib/python3.7/dist-packages (from requests<3,>=2.21.0->tensorboard~=2.5->tensorflow) (2020.12.5)\n",
            "Requirement already satisfied: rsa<5,>=3.1.4; python_version >= \"3.6\" in /usr/local/lib/python3.7/dist-packages (from google-auth<2,>=1.6.3->tensorboard~=2.5->tensorflow) (4.7.2)\n",
            "Requirement already satisfied: cachetools<5.0,>=2.0.0 in /usr/local/lib/python3.7/dist-packages (from google-auth<2,>=1.6.3->tensorboard~=2.5->tensorflow) (4.2.2)\n",
            "Requirement already satisfied: pyasn1-modules>=0.2.1 in /usr/local/lib/python3.7/dist-packages (from google-auth<2,>=1.6.3->tensorboard~=2.5->tensorflow) (0.2.8)\n",
            "Requirement already satisfied: requests-oauthlib>=0.7.0 in /usr/local/lib/python3.7/dist-packages (from google-auth-oauthlib<0.5,>=0.4.1->tensorboard~=2.5->tensorflow) (1.3.0)\n",
            "Requirement already satisfied: importlib-metadata; python_version < \"3.8\" in /usr/local/lib/python3.7/dist-packages (from markdown>=2.6.8->tensorboard~=2.5->tensorflow) (4.0.1)\n",
            "Requirement already satisfied: pyasn1>=0.1.3 in /usr/local/lib/python3.7/dist-packages (from rsa<5,>=3.1.4; python_version >= \"3.6\"->google-auth<2,>=1.6.3->tensorboard~=2.5->tensorflow) (0.4.8)\n",
            "Requirement already satisfied: oauthlib>=3.0.0 in /usr/local/lib/python3.7/dist-packages (from requests-oauthlib>=0.7.0->google-auth-oauthlib<0.5,>=0.4.1->tensorboard~=2.5->tensorflow) (3.1.0)\n",
            "Requirement already satisfied: zipp>=0.5 in /usr/local/lib/python3.7/dist-packages (from importlib-metadata; python_version < \"3.8\"->markdown>=2.6.8->tensorboard~=2.5->tensorflow) (3.4.1)\n",
            "Downloading data from https://storage.googleapis.com/tensorflow/tf-keras-datasets/train-labels-idx1-ubyte.gz\n",
            "32768/29515 [=================================] - 0s 0us/step\n",
            "Downloading data from https://storage.googleapis.com/tensorflow/tf-keras-datasets/train-images-idx3-ubyte.gz\n",
            "26427392/26421880 [==============================] - 0s 0us/step\n",
            "Downloading data from https://storage.googleapis.com/tensorflow/tf-keras-datasets/t10k-labels-idx1-ubyte.gz\n",
            "8192/5148 [===============================================] - 0s 0us/step\n",
            "Downloading data from https://storage.googleapis.com/tensorflow/tf-keras-datasets/t10k-images-idx3-ubyte.gz\n",
            "4423680/4422102 [==============================] - 0s 0us/step\n",
            "Epoch 1/10\n",
            "1875/1875 [==============================] - 4s 2ms/step - loss: 3.4587 - accuracy: 0.7162\n",
            "Epoch 2/10\n",
            "1875/1875 [==============================] - 3s 2ms/step - loss: 0.6645 - accuracy: 0.7681\n",
            "Epoch 3/10\n",
            "1875/1875 [==============================] - 3s 2ms/step - loss: 0.5871 - accuracy: 0.7898\n",
            "Epoch 4/10\n",
            "1875/1875 [==============================] - 3s 2ms/step - loss: 0.5471 - accuracy: 0.8063\n",
            "Epoch 5/10\n",
            "1875/1875 [==============================] - 3s 2ms/step - loss: 0.5166 - accuracy: 0.8225\n",
            "Epoch 6/10\n",
            "1875/1875 [==============================] - 3s 2ms/step - loss: 0.4941 - accuracy: 0.8290\n",
            "Epoch 7/10\n",
            "1875/1875 [==============================] - 3s 2ms/step - loss: 0.4892 - accuracy: 0.8312\n",
            "Epoch 8/10\n",
            "1875/1875 [==============================] - 3s 2ms/step - loss: 0.4814 - accuracy: 0.8339\n",
            "Epoch 9/10\n",
            "1875/1875 [==============================] - 3s 2ms/step - loss: 0.4756 - accuracy: 0.8352\n",
            "Epoch 10/10\n",
            "1875/1875 [==============================] - 3s 2ms/step - loss: 0.4681 - accuracy: 0.8369\n"
          ],
          "name": "stdout"
        },
        {
          "output_type": "display_data",
          "data": {
            "image/png": "[encoded data removed]",
            "text/plain": [
              "<Figure size 720x720 with 25 Axes>"
            ]
          },
          "metadata": {
            "tags": []
          }
        }
      ]
    },
    {
      "cell_type": "markdown",
      "metadata": {
        "id": "p4mny9UWNrCb"
      },
      "source": [
        "# **Print a few images**"
      ]
    },
    {
      "cell_type": "code",
      "metadata": {
        "colab": {
          "base_uri": "https://localhost:8080/",
          "height": 729
        },
        "id": "GbfmcaLQa2NR",
        "outputId": "1358eb1d-19e8-4faa-92f1-b6053e9de606"
      },
      "source": [
        "num_rows = 5\n",
        "num_cols = 3\n",
        "num_images = num_rows*num_cols\n",
        "plt.figure(figsize=(2*2*num_cols, 2*num_rows))\n",
        "for i in range(num_images):\n",
        "  plt.subplot(num_rows, 2*num_cols, 2*i+1)\n",
        "  plot_image(i, predictions[i], test_labels, test_images)\n",
        "  plt.subplot(num_rows, 2*num_cols, 2*i+2)\n",
        "  plot_value_array(i, predictions[i], test_labels)\n",
        "plt.tight_layout()\n",
        "plt.show()"
      ],
      "execution_count": 7,
      "outputs": [
        {
          "output_type": "display_data",
          "data": {
            "image/png": "[encoded data removed]",
            "text/plain": [
              "<Figure size 864x720 with 30 Axes>"
            ]
          },
          "metadata": {
            "tags": [],
            "needs_background": "light"
          }
        }
      ]
    },
    {
      "cell_type": "markdown",
      "metadata": {
        "id": "UmxurqTUODUl"
      },
      "source": [
        "# **Image predictions**"
      ]
    },
    {
      "cell_type": "code",
      "metadata": {
        "colab": {
          "base_uri": "https://localhost:8080/",
          "height": 314,
          "referenced_widgets": [
            "f9a5778eeb34440482d29233671b7bff",
            "c61d94de5b624ba88aa688642edfcb0b",
            "e29d43204bcf4e94952488081de75799",
            "1075499a64e345bd8bb76330867fe165",
            "42f9fc352fce4f87a885eb6c4405e712",
            "53880d504e374ae08839e698928cea11",
            "eddbaaef4da1419ca22ab9ec58113428"
          ]
        },
        "id": "RwNBqqTJGtAg",
        "outputId": "19ad98ed-1382-417a-963e-70a322ce45fc"
      },
      "source": [
        "plt.figure(figsize=(6,3))\n",
        "def plot_interactive(i):\n",
        "    plt.subplot(1,2,1)\n",
        "    plot_image(i, predictions[i], test_labels, test_images)\n",
        "    plt.subplot(1,2,2)\n",
        "    plot_value_array(i, predictions[i],  test_labels)\n",
        "    plt.show()\n",
        " \n",
        "_ = widgets.interact(plot_interactive, i=(0, 100, 1))"
      ],
      "execution_count": 8,
      "outputs": [
        {
          "output_type": "display_data",
          "data": {
            "text/plain": [
              "<Figure size 432x216 with 0 Axes>"
            ]
          },
          "metadata": {
            "tags": []
          }
        },
        {
          "output_type": "display_data",
          "data": {
            "application/vnd.jupyter.widget-view+json": {
              "model_id": "f9a5778eeb34440482d29233671b7bff",
              "version_minor": 0,
              "version_major": 2
            },
            "text/plain": [
              "interactive(children=(IntSlider(value=50, description='i'), Output()), _dom_classes=('widget-interact',))"
            ]
          },
          "metadata": {
            "tags": []
          }
        }
      ]
    }
  ]
}