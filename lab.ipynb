{
  "nbformat": 4,
  "nbformat_minor": 0,
  "metadata": {
    "colab": {
      "name": "lab.ipynb",
      "provenance": [],
      "authorship_tag": "ABX9TyNmeWPwGU6Wi5VNUT77FzoR"
    },
    "kernelspec": {
      "name": "python3",
      "display_name": "Python 3"
    },
    "language_info": {
      "name": "python"
    },
    "widgets": {
      "application/vnd.jupyter.widget-state+json": {
        "779363e2ce3d4eb998c79c1fc541b256": {
          "model_module": "@jupyter-widgets/controls",
          "model_name": "VBoxModel",
          "state": {
            "_view_name": "VBoxView",
            "_dom_classes": [
              "widget-interact"
            ],
            "_model_name": "VBoxModel",
            "_view_module": "@jupyter-widgets/controls",
            "_model_module_version": "1.5.0",
            "_view_count": null,
            "_view_module_version": "1.5.0",
            "box_style": "",
            "layout": "IPY_MODEL_568dbd2f90044ff29d7d418a10e67ebd",
            "_model_module": "@jupyter-widgets/controls",
            "children": [
              "IPY_MODEL_3d9dd176ece347f2892ad74a7597f85b",
              "IPY_MODEL_b229fc23c3fa4f1ea0524fe90270f1e2"
            ]
          }
        },
        "568dbd2f90044ff29d7d418a10e67ebd": {
          "model_module": "@jupyter-widgets/base",
          "model_name": "LayoutModel",
          "state": {
            "_view_name": "LayoutView",
            "grid_template_rows": null,
            "right": null,
            "justify_content": null,
            "_view_module": "@jupyter-widgets/base",
            "overflow": null,
            "_model_module_version": "1.2.0",
            "_view_count": null,
            "flex_flow": null,
            "width": null,
            "min_width": null,
            "border": null,
            "align_items": null,
            "bottom": null,
            "_model_module": "@jupyter-widgets/base",
            "top": null,
            "grid_column": null,
            "overflow_y": null,
            "overflow_x": null,
            "grid_auto_flow": null,
            "grid_area": null,
            "grid_template_columns": null,
            "flex": null,
            "_model_name": "LayoutModel",
            "justify_items": null,
            "grid_row": null,
            "max_height": null,
            "align_content": null,
            "visibility": null,
            "align_self": null,
            "height": null,
            "min_height": null,
            "padding": null,
            "grid_auto_rows": null,
            "grid_gap": null,
            "max_width": null,
            "order": null,
            "_view_module_version": "1.2.0",
            "grid_template_areas": null,
            "object_position": null,
            "object_fit": null,
            "grid_auto_columns": null,
            "margin": null,
            "display": null,
            "left": null
          }
        },
        "3d9dd176ece347f2892ad74a7597f85b": {
          "model_module": "@jupyter-widgets/controls",
          "model_name": "IntSliderModel",
          "state": {
            "_view_name": "IntSliderView",
            "style": "IPY_MODEL_35b9833030234b1cafe0a1ff5044274a",
            "_dom_classes": [],
            "description": "i",
            "step": 1,
            "_model_name": "IntSliderModel",
            "orientation": "horizontal",
            "max": 100,
            "_view_module": "@jupyter-widgets/controls",
            "_model_module_version": "1.5.0",
            "value": 50,
            "_view_count": null,
            "disabled": false,
            "_view_module_version": "1.5.0",
            "min": 0,
            "continuous_update": true,
            "readout_format": "d",
            "description_tooltip": null,
            "readout": true,
            "_model_module": "@jupyter-widgets/controls",
            "layout": "IPY_MODEL_7ff8bc1021594f5bb648e3519b925348"
          }
        },
        "b229fc23c3fa4f1ea0524fe90270f1e2": {
          "model_module": "@jupyter-widgets/output",
          "model_name": "OutputModel",
          "state": {
            "_view_name": "OutputView",
            "msg_id": "",
            "_dom_classes": [],
            "_model_name": "OutputModel",
            "outputs": [
              {
                "output_type": "display_data",
                "metadata": {
                  "tags": [],
                  "needs_background": "light"
                },
                "image/png": "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\n",
                "text/plain": "<Figure size 432x288 with 2 Axes>"
              }
            ],
            "_view_module": "@jupyter-widgets/output",
            "_model_module_version": "1.0.0",
            "_view_count": null,
            "_view_module_version": "1.0.0",
            "layout": "IPY_MODEL_e28e0f388282472997e134c127786a1a",
            "_model_module": "@jupyter-widgets/output"
          }
        },
        "35b9833030234b1cafe0a1ff5044274a": {
          "model_module": "@jupyter-widgets/controls",
          "model_name": "SliderStyleModel",
          "state": {
            "_view_name": "StyleView",
            "handle_color": null,
            "_model_name": "SliderStyleModel",
            "description_width": "",
            "_view_module": "@jupyter-widgets/base",
            "_model_module_version": "1.5.0",
            "_view_count": null,
            "_view_module_version": "1.2.0",
            "_model_module": "@jupyter-widgets/controls"
          }
        },
        "7ff8bc1021594f5bb648e3519b925348": {
          "model_module": "@jupyter-widgets/base",
          "model_name": "LayoutModel",
          "state": {
            "_view_name": "LayoutView",
            "grid_template_rows": null,
            "right": null,
            "justify_content": null,
            "_view_module": "@jupyter-widgets/base",
            "overflow": null,
            "_model_module_version": "1.2.0",
            "_view_count": null,
            "flex_flow": null,
            "width": null,
            "min_width": null,
            "border": null,
            "align_items": null,
            "bottom": null,
            "_model_module": "@jupyter-widgets/base",
            "top": null,
            "grid_column": null,
            "overflow_y": null,
            "overflow_x": null,
            "grid_auto_flow": null,
            "grid_area": null,
            "grid_template_columns": null,
            "flex": null,
            "_model_name": "LayoutModel",
            "justify_items": null,
            "grid_row": null,
            "max_height": null,
            "align_content": null,
            "visibility": null,
            "align_self": null,
            "height": null,
            "min_height": null,
            "padding": null,
            "grid_auto_rows": null,
            "grid_gap": null,
            "max_width": null,
            "order": null,
            "_view_module_version": "1.2.0",
            "grid_template_areas": null,
            "object_position": null,
            "object_fit": null,
            "grid_auto_columns": null,
            "margin": null,
            "display": null,
            "left": null
          }
        },
        "e28e0f388282472997e134c127786a1a": {
          "model_module": "@jupyter-widgets/base",
          "model_name": "LayoutModel",
          "state": {
            "_view_name": "LayoutView",
            "grid_template_rows": null,
            "right": null,
            "justify_content": null,
            "_view_module": "@jupyter-widgets/base",
            "overflow": null,
            "_model_module_version": "1.2.0",
            "_view_count": null,
            "flex_flow": null,
            "width": null,
            "min_width": null,
            "border": null,
            "align_items": null,
            "bottom": null,
            "_model_module": "@jupyter-widgets/base",
            "top": null,
            "grid_column": null,
            "overflow_y": null,
            "overflow_x": null,
            "grid_auto_flow": null,
            "grid_area": null,
            "grid_template_columns": null,
            "flex": null,
            "_model_name": "LayoutModel",
            "justify_items": null,
            "grid_row": null,
            "max_height": null,
            "align_content": null,
            "visibility": null,
            "align_self": null,
            "height": null,
            "min_height": null,
            "padding": null,
            "grid_auto_rows": null,
            "grid_gap": null,
            "max_width": null,
            "order": null,
            "_view_module_version": "1.2.0",
            "grid_template_areas": null,
            "object_position": null,
            "object_fit": null,
            "grid_auto_columns": null,
            "margin": null,
            "display": null,
            "left": null
          }
        }
      }
    }
  },
  "cells": [
    {
      "cell_type": "markdown",
      "metadata": {
        "id": "crtNJGsLs84z"
      },
      "source": [
        "# **A simpler algorithm**"
      ]
    },
    {
      "cell_type": "code",
      "metadata": {
        "colab": {
          "base_uri": "https://localhost:8080/"
        },
        "id": "-I_kG5TytKg3",
        "outputId": "582d6fba-d121-484e-dc35-10d1e25d9916"
      },
      "source": [
        "!pip install pandas\n",
        "!pip install sklearn\n",
        "!pip install ipympl\n",
        "!pip install tensorflow\n",
        "\n",
        "import pandas as pd\n",
        "from sklearn.datasets import load_boston\n",
        "from sklearn.model_selection import train_test_split\n",
        "from sklearn.linear_model import LinearRegression\n",
        "import matplotlib.pyplot as plt\n",
        "\n",
        "boston = load_boston()\n",
        "data = pd.DataFrame(boston.data)\n",
        "data.columns = boston.feature_names\n",
        "data['PRICE'] = boston.target "
      ],
      "execution_count": 1,
      "outputs": [
        {
          "output_type": "stream",
          "text": [
            "Requirement already satisfied: pandas in /usr/local/lib/python3.7/dist-packages (1.1.5)\n",
            "Requirement already satisfied: pytz>=2017.2 in /usr/local/lib/python3.7/dist-packages (from pandas) (2018.9)\n",
            "Requirement already satisfied: numpy>=1.15.4 in /usr/local/lib/python3.7/dist-packages (from pandas) (1.19.5)\n",
            "Requirement already satisfied: python-dateutil>=2.7.3 in /usr/local/lib/python3.7/dist-packages (from pandas) (2.8.1)\n",
            "Requirement already satisfied: six>=1.5 in /usr/local/lib/python3.7/dist-packages (from python-dateutil>=2.7.3->pandas) (1.15.0)\n",
            "Requirement already satisfied: sklearn in /usr/local/lib/python3.7/dist-packages (0.0)\n",
            "Requirement already satisfied: scikit-learn in /usr/local/lib/python3.7/dist-packages (from sklearn) (0.22.2.post1)\n",
            "Requirement already satisfied: scipy>=0.17.0 in /usr/local/lib/python3.7/dist-packages (from scikit-learn->sklearn) (1.4.1)\n",
            "Requirement already satisfied: joblib>=0.11 in /usr/local/lib/python3.7/dist-packages (from scikit-learn->sklearn) (1.0.1)\n",
            "Requirement already satisfied: numpy>=1.11.0 in /usr/local/lib/python3.7/dist-packages (from scikit-learn->sklearn) (1.19.5)\n",
            "Requirement already satisfied: ipympl in /usr/local/lib/python3.7/dist-packages (0.7.0)\n",
            "Requirement already satisfied: ipykernel>=4.7 in /usr/local/lib/python3.7/dist-packages (from ipympl) (4.10.1)\n",
            "Requirement already satisfied: matplotlib>=2.0.0 in /usr/local/lib/python3.7/dist-packages (from ipympl) (3.2.2)\n",
            "Requirement already satisfied: ipywidgets>=7.6.0 in /usr/local/lib/python3.7/dist-packages (from ipympl) (7.6.3)\n",
            "Requirement already satisfied: jupyter-client in /usr/local/lib/python3.7/dist-packages (from ipykernel>=4.7->ipympl) (5.3.5)\n",
            "Requirement already satisfied: tornado>=4.0 in /usr/local/lib/python3.7/dist-packages (from ipykernel>=4.7->ipympl) (5.1.1)\n",
            "Requirement already satisfied: traitlets>=4.1.0 in /usr/local/lib/python3.7/dist-packages (from ipykernel>=4.7->ipympl) (5.0.5)\n",
            "Requirement already satisfied: ipython>=4.0.0 in /usr/local/lib/python3.7/dist-packages (from ipykernel>=4.7->ipympl) (5.5.0)\n",
            "Requirement already satisfied: kiwisolver>=1.0.1 in /usr/local/lib/python3.7/dist-packages (from matplotlib>=2.0.0->ipympl) (1.3.1)\n",
            "Requirement already satisfied: numpy>=1.11 in /usr/local/lib/python3.7/dist-packages (from matplotlib>=2.0.0->ipympl) (1.19.5)\n",
            "Requirement already satisfied: pyparsing!=2.0.4,!=2.1.2,!=2.1.6,>=2.0.1 in /usr/local/lib/python3.7/dist-packages (from matplotlib>=2.0.0->ipympl) (2.4.7)\n",
            "Requirement already satisfied: cycler>=0.10 in /usr/local/lib/python3.7/dist-packages (from matplotlib>=2.0.0->ipympl) (0.10.0)\n",
            "Requirement already satisfied: python-dateutil>=2.1 in /usr/local/lib/python3.7/dist-packages (from matplotlib>=2.0.0->ipympl) (2.8.1)\n",
            "Requirement already satisfied: jupyterlab-widgets>=1.0.0; python_version >= \"3.6\" in /usr/local/lib/python3.7/dist-packages (from ipywidgets>=7.6.0->ipympl) (1.0.0)\n",
            "Requirement already satisfied: nbformat>=4.2.0 in /usr/local/lib/python3.7/dist-packages (from ipywidgets>=7.6.0->ipympl) (5.1.3)\n",
            "Requirement already satisfied: widgetsnbextension~=3.5.0 in /usr/local/lib/python3.7/dist-packages (from ipywidgets>=7.6.0->ipympl) (3.5.1)\n",
            "Requirement already satisfied: pyzmq>=13 in /usr/local/lib/python3.7/dist-packages (from jupyter-client->ipykernel>=4.7->ipympl) (22.0.3)\n",
            "Requirement already satisfied: jupyter-core>=4.6.0 in /usr/local/lib/python3.7/dist-packages (from jupyter-client->ipykernel>=4.7->ipympl) (4.7.1)\n",
            "Requirement already satisfied: ipython-genutils in /usr/local/lib/python3.7/dist-packages (from traitlets>=4.1.0->ipykernel>=4.7->ipympl) (0.2.0)\n",
            "Requirement already satisfied: decorator in /usr/local/lib/python3.7/dist-packages (from ipython>=4.0.0->ipykernel>=4.7->ipympl) (4.4.2)\n",
            "Requirement already satisfied: prompt-toolkit<2.0.0,>=1.0.4 in /usr/local/lib/python3.7/dist-packages (from ipython>=4.0.0->ipykernel>=4.7->ipympl) (1.0.18)\n",
            "Requirement already satisfied: simplegeneric>0.8 in /usr/local/lib/python3.7/dist-packages (from ipython>=4.0.0->ipykernel>=4.7->ipympl) (0.8.1)\n",
            "Requirement already satisfied: pexpect; sys_platform != \"win32\" in /usr/local/lib/python3.7/dist-packages (from ipython>=4.0.0->ipykernel>=4.7->ipympl) (4.8.0)\n",
            "Requirement already satisfied: pickleshare in /usr/local/lib/python3.7/dist-packages (from ipython>=4.0.0->ipykernel>=4.7->ipympl) (0.7.5)\n",
            "Requirement already satisfied: pygments in /usr/local/lib/python3.7/dist-packages (from ipython>=4.0.0->ipykernel>=4.7->ipympl) (2.6.1)\n",
            "Requirement already satisfied: setuptools>=18.5 in /usr/local/lib/python3.7/dist-packages (from ipython>=4.0.0->ipykernel>=4.7->ipympl) (57.0.0)\n",
            "Requirement already satisfied: six in /usr/local/lib/python3.7/dist-packages (from cycler>=0.10->matplotlib>=2.0.0->ipympl) (1.15.0)\n",
            "Requirement already satisfied: jsonschema!=2.5.0,>=2.4 in /usr/local/lib/python3.7/dist-packages (from nbformat>=4.2.0->ipywidgets>=7.6.0->ipympl) (2.6.0)\n",
            "Requirement already satisfied: notebook>=4.4.1 in /usr/local/lib/python3.7/dist-packages (from widgetsnbextension~=3.5.0->ipywidgets>=7.6.0->ipympl) (5.3.1)\n",
            "Requirement already satisfied: wcwidth in /usr/local/lib/python3.7/dist-packages (from prompt-toolkit<2.0.0,>=1.0.4->ipython>=4.0.0->ipykernel>=4.7->ipympl) (0.2.5)\n",
            "Requirement already satisfied: ptyprocess>=0.5 in /usr/local/lib/python3.7/dist-packages (from pexpect; sys_platform != \"win32\"->ipython>=4.0.0->ipykernel>=4.7->ipympl) (0.7.0)\n",
            "Requirement already satisfied: Send2Trash in /usr/local/lib/python3.7/dist-packages (from notebook>=4.4.1->widgetsnbextension~=3.5.0->ipywidgets>=7.6.0->ipympl) (1.5.0)\n",
            "Requirement already satisfied: jinja2 in /usr/local/lib/python3.7/dist-packages (from notebook>=4.4.1->widgetsnbextension~=3.5.0->ipywidgets>=7.6.0->ipympl) (2.11.3)\n",
            "Requirement already satisfied: terminado>=0.8.1 in /usr/local/lib/python3.7/dist-packages (from notebook>=4.4.1->widgetsnbextension~=3.5.0->ipywidgets>=7.6.0->ipympl) (0.10.0)\n",
            "Requirement already satisfied: nbconvert in /usr/local/lib/python3.7/dist-packages (from notebook>=4.4.1->widgetsnbextension~=3.5.0->ipywidgets>=7.6.0->ipympl) (5.6.1)\n",
            "Requirement already satisfied: MarkupSafe>=0.23 in /usr/local/lib/python3.7/dist-packages (from jinja2->notebook>=4.4.1->widgetsnbextension~=3.5.0->ipywidgets>=7.6.0->ipympl) (2.0.1)\n",
            "Requirement already satisfied: defusedxml in /usr/local/lib/python3.7/dist-packages (from nbconvert->notebook>=4.4.1->widgetsnbextension~=3.5.0->ipywidgets>=7.6.0->ipympl) (0.7.1)\n",
            "Requirement already satisfied: bleach in /usr/local/lib/python3.7/dist-packages (from nbconvert->notebook>=4.4.1->widgetsnbextension~=3.5.0->ipywidgets>=7.6.0->ipympl) (3.3.0)\n",
            "Requirement already satisfied: mistune<2,>=0.8.1 in /usr/local/lib/python3.7/dist-packages (from nbconvert->notebook>=4.4.1->widgetsnbextension~=3.5.0->ipywidgets>=7.6.0->ipympl) (0.8.4)\n",
            "Requirement already satisfied: pandocfilters>=1.4.1 in /usr/local/lib/python3.7/dist-packages (from nbconvert->notebook>=4.4.1->widgetsnbextension~=3.5.0->ipywidgets>=7.6.0->ipympl) (1.4.3)\n",
            "Requirement already satisfied: entrypoints>=0.2.2 in /usr/local/lib/python3.7/dist-packages (from nbconvert->notebook>=4.4.1->widgetsnbextension~=3.5.0->ipywidgets>=7.6.0->ipympl) (0.3)\n",
            "Requirement already satisfied: testpath in /usr/local/lib/python3.7/dist-packages (from nbconvert->notebook>=4.4.1->widgetsnbextension~=3.5.0->ipywidgets>=7.6.0->ipympl) (0.5.0)\n",
            "Requirement already satisfied: packaging in /usr/local/lib/python3.7/dist-packages (from bleach->nbconvert->notebook>=4.4.1->widgetsnbextension~=3.5.0->ipywidgets>=7.6.0->ipympl) (20.9)\n",
            "Requirement already satisfied: webencodings in /usr/local/lib/python3.7/dist-packages (from bleach->nbconvert->notebook>=4.4.1->widgetsnbextension~=3.5.0->ipywidgets>=7.6.0->ipympl) (0.5.1)\n",
            "Requirement already satisfied: tensorflow in /usr/local/lib/python3.7/dist-packages (2.5.0)\n",
            "Requirement already satisfied: tensorflow-estimator<2.6.0,>=2.5.0rc0 in /usr/local/lib/python3.7/dist-packages (from tensorflow) (2.5.0)\n",
            "Requirement already satisfied: keras-nightly~=2.5.0.dev in /usr/local/lib/python3.7/dist-packages (from tensorflow) (2.5.0.dev2021032900)\n",
            "Requirement already satisfied: keras-preprocessing~=1.1.2 in /usr/local/lib/python3.7/dist-packages (from tensorflow) (1.1.2)\n",
            "Requirement already satisfied: h5py~=3.1.0 in /usr/local/lib/python3.7/dist-packages (from tensorflow) (3.1.0)\n",
            "Requirement already satisfied: protobuf>=3.9.2 in /usr/local/lib/python3.7/dist-packages (from tensorflow) (3.12.4)\n",
            "Requirement already satisfied: termcolor~=1.1.0 in /usr/local/lib/python3.7/dist-packages (from tensorflow) (1.1.0)\n",
            "Requirement already satisfied: flatbuffers~=1.12.0 in /usr/local/lib/python3.7/dist-packages (from tensorflow) (1.12)\n",
            "Requirement already satisfied: typing-extensions~=3.7.4 in /usr/local/lib/python3.7/dist-packages (from tensorflow) (3.7.4.3)\n",
            "Requirement already satisfied: opt-einsum~=3.3.0 in /usr/local/lib/python3.7/dist-packages (from tensorflow) (3.3.0)\n",
            "Requirement already satisfied: gast==0.4.0 in /usr/local/lib/python3.7/dist-packages (from tensorflow) (0.4.0)\n",
            "Requirement already satisfied: wrapt~=1.12.1 in /usr/local/lib/python3.7/dist-packages (from tensorflow) (1.12.1)\n",
            "Requirement already satisfied: six~=1.15.0 in /usr/local/lib/python3.7/dist-packages (from tensorflow) (1.15.0)\n",
            "Requirement already satisfied: tensorboard~=2.5 in /usr/local/lib/python3.7/dist-packages (from tensorflow) (2.5.0)\n",
            "Requirement already satisfied: google-pasta~=0.2 in /usr/local/lib/python3.7/dist-packages (from tensorflow) (0.2.0)\n",
            "Requirement already satisfied: numpy~=1.19.2 in /usr/local/lib/python3.7/dist-packages (from tensorflow) (1.19.5)\n",
            "Requirement already satisfied: absl-py~=0.10 in /usr/local/lib/python3.7/dist-packages (from tensorflow) (0.12.0)\n",
            "Requirement already satisfied: grpcio~=1.34.0 in /usr/local/lib/python3.7/dist-packages (from tensorflow) (1.34.1)\n",
            "Requirement already satisfied: astunparse~=1.6.3 in /usr/local/lib/python3.7/dist-packages (from tensorflow) (1.6.3)\n",
            "Requirement already satisfied: wheel~=0.35 in /usr/local/lib/python3.7/dist-packages (from tensorflow) (0.36.2)\n",
            "Requirement already satisfied: cached-property; python_version < \"3.8\" in /usr/local/lib/python3.7/dist-packages (from h5py~=3.1.0->tensorflow) (1.5.2)\n",
            "Requirement already satisfied: setuptools in /usr/local/lib/python3.7/dist-packages (from protobuf>=3.9.2->tensorflow) (57.0.0)\n",
            "Requirement already satisfied: werkzeug>=0.11.15 in /usr/local/lib/python3.7/dist-packages (from tensorboard~=2.5->tensorflow) (1.0.1)\n",
            "Requirement already satisfied: markdown>=2.6.8 in /usr/local/lib/python3.7/dist-packages (from tensorboard~=2.5->tensorflow) (3.3.4)\n",
            "Requirement already satisfied: tensorboard-data-server<0.7.0,>=0.6.0 in /usr/local/lib/python3.7/dist-packages (from tensorboard~=2.5->tensorflow) (0.6.1)\n",
            "Requirement already satisfied: google-auth-oauthlib<0.5,>=0.4.1 in /usr/local/lib/python3.7/dist-packages (from tensorboard~=2.5->tensorflow) (0.4.4)\n",
            "Requirement already satisfied: requests<3,>=2.21.0 in /usr/local/lib/python3.7/dist-packages (from tensorboard~=2.5->tensorflow) (2.23.0)\n",
            "Requirement already satisfied: tensorboard-plugin-wit>=1.6.0 in /usr/local/lib/python3.7/dist-packages (from tensorboard~=2.5->tensorflow) (1.8.0)\n",
            "Requirement already satisfied: google-auth<2,>=1.6.3 in /usr/local/lib/python3.7/dist-packages (from tensorboard~=2.5->tensorflow) (1.30.0)\n",
            "Requirement already satisfied: importlib-metadata; python_version < \"3.8\" in /usr/local/lib/python3.7/dist-packages (from markdown>=2.6.8->tensorboard~=2.5->tensorflow) (4.0.1)\n",
            "Requirement already satisfied: requests-oauthlib>=0.7.0 in /usr/local/lib/python3.7/dist-packages (from google-auth-oauthlib<0.5,>=0.4.1->tensorboard~=2.5->tensorflow) (1.3.0)\n",
            "Requirement already satisfied: urllib3!=1.25.0,!=1.25.1,<1.26,>=1.21.1 in /usr/local/lib/python3.7/dist-packages (from requests<3,>=2.21.0->tensorboard~=2.5->tensorflow) (1.24.3)\n",
            "Requirement already satisfied: certifi>=2017.4.17 in /usr/local/lib/python3.7/dist-packages (from requests<3,>=2.21.0->tensorboard~=2.5->tensorflow) (2020.12.5)\n",
            "Requirement already satisfied: idna<3,>=2.5 in /usr/local/lib/python3.7/dist-packages (from requests<3,>=2.21.0->tensorboard~=2.5->tensorflow) (2.10)\n",
            "Requirement already satisfied: chardet<4,>=3.0.2 in /usr/local/lib/python3.7/dist-packages (from requests<3,>=2.21.0->tensorboard~=2.5->tensorflow) (3.0.4)\n",
            "Requirement already satisfied: cachetools<5.0,>=2.0.0 in /usr/local/lib/python3.7/dist-packages (from google-auth<2,>=1.6.3->tensorboard~=2.5->tensorflow) (4.2.2)\n",
            "Requirement already satisfied: rsa<5,>=3.1.4; python_version >= \"3.6\" in /usr/local/lib/python3.7/dist-packages (from google-auth<2,>=1.6.3->tensorboard~=2.5->tensorflow) (4.7.2)\n",
            "Requirement already satisfied: pyasn1-modules>=0.2.1 in /usr/local/lib/python3.7/dist-packages (from google-auth<2,>=1.6.3->tensorboard~=2.5->tensorflow) (0.2.8)\n",
            "Requirement already satisfied: zipp>=0.5 in /usr/local/lib/python3.7/dist-packages (from importlib-metadata; python_version < \"3.8\"->markdown>=2.6.8->tensorboard~=2.5->tensorflow) (3.4.1)\n",
            "Requirement already satisfied: oauthlib>=3.0.0 in /usr/local/lib/python3.7/dist-packages (from requests-oauthlib>=0.7.0->google-auth-oauthlib<0.5,>=0.4.1->tensorboard~=2.5->tensorflow) (3.1.0)\n",
            "Requirement already satisfied: pyasn1>=0.1.3 in /usr/local/lib/python3.7/dist-packages (from rsa<5,>=3.1.4; python_version >= \"3.6\"->google-auth<2,>=1.6.3->tensorboard~=2.5->tensorflow) (0.4.8)\n"
          ],
          "name": "stdout"
        }
      ]
    },
    {
      "cell_type": "code",
      "metadata": {
        "colab": {
          "base_uri": "https://localhost:8080/",
          "height": 203
        },
        "id": "4jgp2tuO3sBa",
        "outputId": "f3338448-6bae-4e49-fb38-ab47aa9c6a39"
      },
      "source": [
        "data.head()"
      ],
      "execution_count": 2,
      "outputs": [
        {
          "output_type": "execute_result",
          "data": {
            "text/html": [
              "<div>\n",
              "<style scoped>\n",
              "    .dataframe tbody tr th:only-of-type {\n",
              "        vertical-align: middle;\n",
              "    }\n",
              "\n",
              "    .dataframe tbody tr th {\n",
              "        vertical-align: top;\n",
              "    }\n",
              "\n",
              "    .dataframe thead th {\n",
              "        text-align: right;\n",
              "    }\n",
              "</style>\n",
              "<table border=\"1\" class=\"dataframe\">\n",
              "  <thead>\n",
              "    <tr style=\"text-align: right;\">\n",
              "      <th></th>\n",
              "      <th>CRIM</th>\n",
              "      <th>ZN</th>\n",
              "      <th>INDUS</th>\n",
              "      <th>CHAS</th>\n",
              "      <th>NOX</th>\n",
              "      <th>RM</th>\n",
              "      <th>AGE</th>\n",
              "      <th>DIS</th>\n",
              "      <th>RAD</th>\n",
              "      <th>TAX</th>\n",
              "      <th>PTRATIO</th>\n",
              "      <th>B</th>\n",
              "      <th>LSTAT</th>\n",
              "      <th>PRICE</th>\n",
              "    </tr>\n",
              "  </thead>\n",
              "  <tbody>\n",
              "    <tr>\n",
              "      <th>0</th>\n",
              "      <td>0.00632</td>\n",
              "      <td>18.0</td>\n",
              "      <td>2.31</td>\n",
              "      <td>0.0</td>\n",
              "      <td>0.538</td>\n",
              "      <td>6.575</td>\n",
              "      <td>65.2</td>\n",
              "      <td>4.0900</td>\n",
              "      <td>1.0</td>\n",
              "      <td>296.0</td>\n",
              "      <td>15.3</td>\n",
              "      <td>396.90</td>\n",
              "      <td>4.98</td>\n",
              "      <td>24.0</td>\n",
              "    </tr>\n",
              "    <tr>\n",
              "      <th>1</th>\n",
              "      <td>0.02731</td>\n",
              "      <td>0.0</td>\n",
              "      <td>7.07</td>\n",
              "      <td>0.0</td>\n",
              "      <td>0.469</td>\n",
              "      <td>6.421</td>\n",
              "      <td>78.9</td>\n",
              "      <td>4.9671</td>\n",
              "      <td>2.0</td>\n",
              "      <td>242.0</td>\n",
              "      <td>17.8</td>\n",
              "      <td>396.90</td>\n",
              "      <td>9.14</td>\n",
              "      <td>21.6</td>\n",
              "    </tr>\n",
              "    <tr>\n",
              "      <th>2</th>\n",
              "      <td>0.02729</td>\n",
              "      <td>0.0</td>\n",
              "      <td>7.07</td>\n",
              "      <td>0.0</td>\n",
              "      <td>0.469</td>\n",
              "      <td>7.185</td>\n",
              "      <td>61.1</td>\n",
              "      <td>4.9671</td>\n",
              "      <td>2.0</td>\n",
              "      <td>242.0</td>\n",
              "      <td>17.8</td>\n",
              "      <td>392.83</td>\n",
              "      <td>4.03</td>\n",
              "      <td>34.7</td>\n",
              "    </tr>\n",
              "    <tr>\n",
              "      <th>3</th>\n",
              "      <td>0.03237</td>\n",
              "      <td>0.0</td>\n",
              "      <td>2.18</td>\n",
              "      <td>0.0</td>\n",
              "      <td>0.458</td>\n",
              "      <td>6.998</td>\n",
              "      <td>45.8</td>\n",
              "      <td>6.0622</td>\n",
              "      <td>3.0</td>\n",
              "      <td>222.0</td>\n",
              "      <td>18.7</td>\n",
              "      <td>394.63</td>\n",
              "      <td>2.94</td>\n",
              "      <td>33.4</td>\n",
              "    </tr>\n",
              "    <tr>\n",
              "      <th>4</th>\n",
              "      <td>0.06905</td>\n",
              "      <td>0.0</td>\n",
              "      <td>2.18</td>\n",
              "      <td>0.0</td>\n",
              "      <td>0.458</td>\n",
              "      <td>7.147</td>\n",
              "      <td>54.2</td>\n",
              "      <td>6.0622</td>\n",
              "      <td>3.0</td>\n",
              "      <td>222.0</td>\n",
              "      <td>18.7</td>\n",
              "      <td>396.90</td>\n",
              "      <td>5.33</td>\n",
              "      <td>36.2</td>\n",
              "    </tr>\n",
              "  </tbody>\n",
              "</table>\n",
              "</div>"
            ],
            "text/plain": [
              "      CRIM    ZN  INDUS  CHAS    NOX  ...    TAX  PTRATIO       B  LSTAT  PRICE\n",
              "0  0.00632  18.0   2.31   0.0  0.538  ...  296.0     15.3  396.90   4.98   24.0\n",
              "1  0.02731   0.0   7.07   0.0  0.469  ...  242.0     17.8  396.90   9.14   21.6\n",
              "2  0.02729   0.0   7.07   0.0  0.469  ...  242.0     17.8  392.83   4.03   34.7\n",
              "3  0.03237   0.0   2.18   0.0  0.458  ...  222.0     18.7  394.63   2.94   33.4\n",
              "4  0.06905   0.0   2.18   0.0  0.458  ...  222.0     18.7  396.90   5.33   36.2\n",
              "\n",
              "[5 rows x 14 columns]"
            ]
          },
          "metadata": {
            "tags": []
          },
          "execution_count": 2
        }
      ]
    },
    {
      "cell_type": "markdown",
      "metadata": {
        "id": "Glcg4g6nzCig"
      },
      "source": [
        "price = m * crim + c"
      ]
    },
    {
      "cell_type": "code",
      "metadata": {
        "colab": {
          "base_uri": "https://localhost:8080/"
        },
        "id": "EbMMwylAuzmo",
        "outputId": "00d5c88a-d637-4875-fdf5-e455009bb839"
      },
      "source": [
        "data.shape"
      ],
      "execution_count": 3,
      "outputs": [
        {
          "output_type": "execute_result",
          "data": {
            "text/plain": [
              "(506, 14)"
            ]
          },
          "metadata": {
            "tags": []
          },
          "execution_count": 3
        }
      ]
    },
    {
      "cell_type": "code",
      "metadata": {
        "colab": {
          "base_uri": "https://localhost:8080/"
        },
        "id": "YMssybtqu99P",
        "outputId": "0c9599a5-143d-4e59-dd2a-c0b134a71993"
      },
      "source": [
        "X = data[['CRIM']]\n",
        "y = data['PRICE']\n",
        "\n",
        "X_train, X_test, y_train, y_test = train_test_split(X,y, test_size = 0.3, random_state = 4)\n",
        "\n",
        "lm = LinearRegression()\n",
        "lm.fit(X_train, y_train)"
      ],
      "execution_count": 4,
      "outputs": [
        {
          "output_type": "execute_result",
          "data": {
            "text/plain": [
              "LinearRegression(copy_X=True, fit_intercept=True, n_jobs=None, normalize=False)"
            ]
          },
          "metadata": {
            "tags": []
          },
          "execution_count": 4
        }
      ]
    },
    {
      "cell_type": "code",
      "metadata": {
        "colab": {
          "base_uri": "https://localhost:8080/"
        },
        "id": "ufa8-uPVysjG",
        "outputId": "41cde55f-c4a6-4dc4-cbbd-b9ad553c0623"
      },
      "source": [
        "lm.intercept_"
      ],
      "execution_count": 5,
      "outputs": [
        {
          "output_type": "execute_result",
          "data": {
            "text/plain": [
              "23.685057228193845"
            ]
          },
          "metadata": {
            "tags": []
          },
          "execution_count": 5
        }
      ]
    },
    {
      "cell_type": "code",
      "metadata": {
        "colab": {
          "base_uri": "https://localhost:8080/",
          "height": 80
        },
        "id": "FOm24WB4y1ss",
        "outputId": "5e0f4d44-7943-4124-a254-958bd6e1bd95"
      },
      "source": [
        "coeffcients = pd.DataFrame([X_train.columns,lm.coef_]).T\n",
        "coeffcients = coeffcients.rename(columns={0: 'Attribute', 1: 'Coefficients'})\n",
        "coeffcients"
      ],
      "execution_count": 6,
      "outputs": [
        {
          "output_type": "execute_result",
          "data": {
            "text/html": [
              "<div>\n",
              "<style scoped>\n",
              "    .dataframe tbody tr th:only-of-type {\n",
              "        vertical-align: middle;\n",
              "    }\n",
              "\n",
              "    .dataframe tbody tr th {\n",
              "        vertical-align: top;\n",
              "    }\n",
              "\n",
              "    .dataframe thead th {\n",
              "        text-align: right;\n",
              "    }\n",
              "</style>\n",
              "<table border=\"1\" class=\"dataframe\">\n",
              "  <thead>\n",
              "    <tr style=\"text-align: right;\">\n",
              "      <th></th>\n",
              "      <th>Attribute</th>\n",
              "      <th>Coefficients</th>\n",
              "    </tr>\n",
              "  </thead>\n",
              "  <tbody>\n",
              "    <tr>\n",
              "      <th>0</th>\n",
              "      <td>CRIM</td>\n",
              "      <td>-0.408785</td>\n",
              "    </tr>\n",
              "  </tbody>\n",
              "</table>\n",
              "</div>"
            ],
            "text/plain": [
              "  Attribute Coefficients\n",
              "0      CRIM    -0.408785"
            ]
          },
          "metadata": {
            "tags": []
          },
          "execution_count": 6
        }
      ]
    },
    {
      "cell_type": "markdown",
      "metadata": {
        "id": "XgIStZoM0OxQ"
      },
      "source": [
        "y = a * x + b * x^2 + c * x^3"
      ]
    },
    {
      "cell_type": "markdown",
      "metadata": {
        "id": "SIpcfo6ONbY0"
      },
      "source": [
        "# **Image classification**"
      ]
    },
    {
      "cell_type": "code",
      "metadata": {
        "colab": {
          "base_uri": "https://localhost:8080/",
          "height": 941
        },
        "id": "fjXrIQNTzxPd",
        "outputId": "23b0a43c-7755-4c31-9361-db590aa3dbc0"
      },
      "source": [
        "%matplotlib inline\n",
        "import ipywidgets as widgets\n",
        "import tensorflow as tf\n",
        "import numpy as np\n",
        "import matplotlib.pyplot as plt\n",
        "\n",
        "fashion_mnist = tf.keras.datasets.fashion_mnist\n",
        "(train_images, train_labels), (test_images, test_labels) = fashion_mnist.load_data()\n",
        "class_names = ['T-shirt/top', 'Trouser', 'Pullover', 'Dress', 'Coat', 'Sandal', 'Shirt', 'Sneaker', 'Bag', 'Ankle boot']\n",
        "model = tf.keras.Sequential([\n",
        "    tf.keras.layers.Flatten(input_shape=(28, 28)),\n",
        "    tf.keras.layers.Dense(128, activation='relu'),\n",
        "    tf.keras.layers.Dense(10)\n",
        "])\n",
        "model.compile(optimizer='adam',\n",
        "              loss=tf.keras.losses.SparseCategoricalCrossentropy(from_logits=True),\n",
        "              metrics=['accuracy'])\n",
        "model.fit(train_images, train_labels, epochs=10)\n",
        "probability_model = tf.keras.Sequential([model, \n",
        "                                         tf.keras.layers.Softmax()])\n",
        "predictions = probability_model.predict(test_images)\n",
        "\n",
        "def plot_image(i, predictions_array, true_label, img):\n",
        "  true_label, img = true_label[i], img[i]\n",
        "  plt.grid(False)\n",
        "  plt.xticks([])\n",
        "  plt.yticks([])\n",
        "\n",
        "  plt.imshow(img, cmap=plt.cm.binary)\n",
        "\n",
        "  predicted_label = np.argmax(predictions_array)\n",
        "  if predicted_label == true_label:\n",
        "    color = 'blue'\n",
        "  else:\n",
        "    color = 'red'\n",
        "\n",
        "  plt.xlabel(\"{} {:2.0f}% ({})\".format(class_names[predicted_label],\n",
        "                                100*np.max(predictions_array),\n",
        "                                class_names[true_label]),\n",
        "                                color=color)\n",
        "\n",
        "def plot_value_array(i, predictions_array, true_label):\n",
        "  true_label = true_label[i]\n",
        "  plt.grid(False)\n",
        "  plt.xticks(range(10))\n",
        "  plt.yticks([])\n",
        "  thisplot = plt.bar(range(10), predictions_array, color=\"#777777\")\n",
        "  plt.ylim([0, 1])\n",
        "  predicted_label = np.argmax(predictions_array)\n",
        "\n",
        "  thisplot[predicted_label].set_color('red')\n",
        "  thisplot[true_label].set_color('blue')\n",
        "\n",
        "\n",
        "plt.figure(figsize=(10,10))\n",
        "for i in range(25):\n",
        "    plt.subplot(5,5,i+1)\n",
        "    plt.xticks([])\n",
        "    plt.yticks([])\n",
        "    plt.grid(False)\n",
        "    plt.imshow(train_images[i], cmap=plt.cm.binary)\n",
        "    plt.xlabel(class_names[train_labels[i]])\n",
        "plt.show()"
      ],
      "execution_count": 7,
      "outputs": [
        {
          "output_type": "stream",
          "text": [
            "Epoch 1/10\n",
            "1875/1875 [==============================] - 4s 2ms/step - loss: 2.6710 - accuracy: 0.6819\n",
            "Epoch 2/10\n",
            "1875/1875 [==============================] - 3s 2ms/step - loss: 0.7018 - accuracy: 0.7251\n",
            "Epoch 3/10\n",
            "1875/1875 [==============================] - 3s 2ms/step - loss: 0.6174 - accuracy: 0.7623\n",
            "Epoch 4/10\n",
            "1875/1875 [==============================] - 3s 2ms/step - loss: 0.5758 - accuracy: 0.7777\n",
            "Epoch 5/10\n",
            "1875/1875 [==============================] - 3s 2ms/step - loss: 0.5622 - accuracy: 0.7846\n",
            "Epoch 6/10\n",
            "1875/1875 [==============================] - 3s 2ms/step - loss: 0.5555 - accuracy: 0.7906\n",
            "Epoch 7/10\n",
            "1875/1875 [==============================] - 3s 2ms/step - loss: 0.5327 - accuracy: 0.7964\n",
            "Epoch 8/10\n",
            "1875/1875 [==============================] - 3s 2ms/step - loss: 0.5275 - accuracy: 0.8009\n",
            "Epoch 9/10\n",
            "1875/1875 [==============================] - 3s 2ms/step - loss: 0.5258 - accuracy: 0.8028\n",
            "Epoch 10/10\n",
            "1875/1875 [==============================] - 3s 2ms/step - loss: 0.5140 - accuracy: 0.8071\n"
          ],
          "name": "stdout"
        },
        {
          "output_type": "display_data",
          "data": {
            "image/png": "[encoded data removed]",
            "text/plain": [
              "<Figure size 720x720 with 25 Axes>"
            ]
          },
          "metadata": {
            "tags": []
          }
        }
      ]
    },
    {
      "cell_type": "markdown",
      "metadata": {
        "id": "p4mny9UWNrCb"
      },
      "source": [
        "# **Print a few images**"
      ]
    },
    {
      "cell_type": "code",
      "metadata": {
        "colab": {
          "base_uri": "https://localhost:8080/",
          "height": 729
        },
        "id": "GbfmcaLQa2NR",
        "outputId": "97b28793-77d4-4251-8d7a-667aa9f84996"
      },
      "source": [
        "num_rows = 5\n",
        "num_cols = 3\n",
        "num_images = num_rows*num_cols\n",
        "plt.figure(figsize=(2*2*num_cols, 2*num_rows))\n",
        "for i in range(num_images):\n",
        "  plt.subplot(num_rows, 2*num_cols, 2*i+1)\n",
        "  plot_image(i, predictions[i], test_labels, test_images)\n",
        "  plt.subplot(num_rows, 2*num_cols, 2*i+2)\n",
        "  plot_value_array(i, predictions[i], test_labels)\n",
        "plt.tight_layout()\n",
        "plt.show()"
      ],
      "execution_count": 8,
      "outputs": [
        {
          "output_type": "display_data",
          "data": {
            "image/png": "[encoded data removed]",
            "text/plain": [
              "<Figure size 864x720 with 30 Axes>"
            ]
          },
          "metadata": {
            "tags": [],
            "needs_background": "light"
          }
        }
      ]
    },
    {
      "cell_type": "markdown",
      "metadata": {
        "id": "UmxurqTUODUl"
      },
      "source": [
        "# **Image predictions**"
      ]
    },
    {
      "cell_type": "code",
      "metadata": {
        "colab": {
          "base_uri": "https://localhost:8080/",
          "height": 314,
          "referenced_widgets": [
            "779363e2ce3d4eb998c79c1fc541b256",
            "568dbd2f90044ff29d7d418a10e67ebd",
            "3d9dd176ece347f2892ad74a7597f85b",
            "b229fc23c3fa4f1ea0524fe90270f1e2",
            "35b9833030234b1cafe0a1ff5044274a",
            "7ff8bc1021594f5bb648e3519b925348",
            "e28e0f388282472997e134c127786a1a"
          ]
        },
        "id": "RwNBqqTJGtAg",
        "outputId": "873a8b6d-9b92-4a5e-ed76-49418dc26d3f"
      },
      "source": [
        "plt.figure(figsize=(6,3))\n",
        "def plot_interactive(i):\n",
        "    plt.subplot(1,2,1)\n",
        "    plot_image(i, predictions[i], test_labels, test_images)\n",
        "    plt.subplot(1,2,2)\n",
        "    plot_value_array(i, predictions[i],  test_labels)\n",
        "    plt.show()\n",
        " \n",
        "_ = widgets.interact(plot_interactive, i=(0, 100, 1))"
      ],
      "execution_count": 9,
      "outputs": [
        {
          "output_type": "display_data",
          "data": {
            "text/plain": [
              "<Figure size 432x216 with 0 Axes>"
            ]
          },
          "metadata": {
            "tags": []
          }
        },
        {
          "output_type": "display_data",
          "data": {
            "application/vnd.jupyter.widget-view+json": {
              "model_id": "779363e2ce3d4eb998c79c1fc541b256",
              "version_minor": 0,
              "version_major": 2
            },
            "text/plain": [
              "interactive(children=(IntSlider(value=50, description='i'), Output()), _dom_classes=('widget-interact',))"
            ]
          },
          "metadata": {
            "tags": []
          }
        }
      ]
    }
  ]
}